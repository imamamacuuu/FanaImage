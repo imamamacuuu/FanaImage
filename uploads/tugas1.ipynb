{
 "cells": [
  {
   "cell_type": "markdown",
   "metadata": {},
   "source": [
    "# SOAL 1"
   ]
  },
  {
   "cell_type": "code",
   "execution_count": null,
   "metadata": {},
   "outputs": [
    {
     "name": "stdout",
     "output_type": "stream",
     "text": [
      "[[4 4 5]\n",
      " [7 6 4]\n",
      " [9 7 4]\n",
      " [6 3 7]]\n",
      "array di atas merupakan array 2 dimensi\n"
     ]
    }
   ],
   "source": [
    "import numpy as np\n",
    "\n",
    "iniArray = np.array([[4, 4, 5],\n",
    "                     [7, 6, 4],\n",
    "                     [9, 7, 4],\n",
    "                     [6, 3, 7]])\n",
    "\n",
    "print(iniArray)\n",
    "print(\"array di atas merupakan array\",iniArray.ndim,\"dimensi\")"
   ]
  },
  {
   "cell_type": "markdown",
   "metadata": {},
   "source": [
    "# SOAL 2"
   ]
  },
  {
   "cell_type": "code",
   "execution_count": 41,
   "metadata": {},
   "outputs": [
    {
     "name": "stdout",
     "output_type": "stream",
     "text": [
      "[[[ 7  8  5]\n",
      "  [ 4  7  7]\n",
      "  [ 7  1  9]\n",
      "  [ 5  4 10]]\n",
      "\n",
      " [[ 2  1  2]\n",
      "  [ 9  8  5]\n",
      "  [ 3  7  3]\n",
      "  [ 4  9  9]]\n",
      "\n",
      " [[ 2  9  3]\n",
      "  [ 2  4  8]\n",
      "  [ 1  6  6]\n",
      "  [ 8  1  3]]]\n",
      "array di atas merupakan array 3 dimensi\n"
     ]
    }
   ],
   "source": [
    "iniArray = np.array([[[7, 8, 5], [4, 7, 7], [7, 1, 9], [5, 4, 10]],\n",
    "                      [[2, 1, 2], [9, 8, 5], [3, 7 ,3], [4, 9, 9]],\n",
    "                      [[2, 9, 3], [2, 4, 8], [1, 6, 6], [8, 1, 3]]])\n",
    "\n",
    "print(iniArray)\n",
    "print(\"array di atas merupakan array\",iniArray.ndim,\"dimensi\")"
   ]
  },
  {
   "cell_type": "markdown",
   "metadata": {},
   "source": [
    "# SOAL 3"
   ]
  },
  {
   "cell_type": "code",
   "execution_count": 42,
   "metadata": {},
   "outputs": [
    {
     "name": "stdout",
     "output_type": "stream",
     "text": [
      "array awal:\n",
      " [[ 1  8  8  2]\n",
      " [ 8  2  1  2]\n",
      " [10  1  4  7]\n",
      " [ 1  4  7  8]\n",
      " [ 8  2  3  4]]\n",
      "tambah angka 1 pada baris ganjil:\n",
      " [[ 2  9  9  3]\n",
      " [ 8  2  1  2]\n",
      " [11  2  5  8]\n",
      " [ 1  4  7  8]\n",
      " [ 9  3  4  5]]\n",
      "tambah angka 2 pada kolom genap:\n",
      " [[ 2 11  9  5]\n",
      " [ 8  4  1  4]\n",
      " [11  4  5 10]\n",
      " [ 1  6  7 10]\n",
      " [ 9  5  4  7]]\n"
     ]
    }
   ],
   "source": [
    "iniArray = np.array([[1, 8, 8, 2],\n",
    "                      [8, 2, 1, 2],\n",
    "                      [10, 1, 4, 7],\n",
    "                      [1, 4, 7, 8],\n",
    "                      [8, 2, 3, 4]])\n",
    "print(\"array awal:\\n\",iniArray)\n",
    "\n",
    "array1 = iniArray.copy()\n",
    "array1[::2] += 1\n",
    "print(\"tambah angka 1 pada baris ganjil:\\n\",array1)\n",
    "\n",
    "array2 = array1.copy()\n",
    "array2[:, 1::2] += 2\n",
    "print(\"tambah angka 2 pada kolom genap:\\n\",array2)"
   ]
  },
  {
   "cell_type": "markdown",
   "metadata": {},
   "source": [
    "# SOAL 4"
   ]
  },
  {
   "cell_type": "code",
   "execution_count": 49,
   "metadata": {},
   "outputs": [
    {
     "name": "stdout",
     "output_type": "stream",
     "text": [
      "[[[ 5  8  7]\n",
      "  [ 7  7  4]\n",
      "  [ 9  1  7]\n",
      "  [10  4  5]]\n",
      "\n",
      " [[ 2  1  2]\n",
      "  [ 5  8  9]\n",
      "  [ 3  7  3]\n",
      "  [ 9  9  4]]\n",
      "\n",
      " [[ 3  9  2]\n",
      "  [ 8  4  2]\n",
      "  [ 6  6  1]\n",
      "  [ 3  1  8]]]\n"
     ]
    }
   ],
   "source": [
    "iniArray = np.array([[[7, 8, 5], [4, 7, 7], [7, 1, 9], [5, 4, 10]],\n",
    "                      [[2, 1, 2], [9, 8, 5], [3, 7 ,3], [4, 9, 9]],\n",
    "                      [[2, 9, 3], [2, 4, 8], [1, 6, 6], [8, 1, 3]]])\n",
    "arrayDibolak = np.flip(iniArray, axis=2)\n",
    "print(arrayDibolak)"
   ]
  },
  {
   "cell_type": "markdown",
   "metadata": {},
   "source": [
    "# SOAL 5"
   ]
  },
  {
   "cell_type": "code",
   "execution_count": 50,
   "metadata": {},
   "outputs": [
    {
     "name": "stdout",
     "output_type": "stream",
     "text": [
      "array setelah direshape menjadi 6x6:\n",
      " [[ 7  8  5  4  7  7]\n",
      " [ 7  1  9  5  4 10]\n",
      " [ 2  1  2  9  8  5]\n",
      " [ 3  7  3  4  9  9]\n",
      " [ 2  9  3  2  4  8]\n",
      " [ 1  6  6  8  1  3]]\n"
     ]
    }
   ],
   "source": [
    "iniArray = np.array([[[7, 8, 5], [4, 7, 7], [7, 1, 9], [5, 4, 10]],\n",
    "                      [[2, 1, 2], [9, 8, 5], [3, 7 ,3], [4, 9, 9]],\n",
    "                      [[2, 9, 3], [2, 4, 8], [1, 6, 6], [8, 1, 3]]])\n",
    "\n",
    "jadiGepeng = iniArray.reshape(6, 6)\n",
    "print(\"array setelah direshape menjadi 6x6:\\n\", jadiGepeng)"
   ]
  },
  {
   "cell_type": "markdown",
   "metadata": {},
   "source": [
    "# SOAL 6"
   ]
  },
  {
   "cell_type": "code",
   "execution_count": null,
   "metadata": {},
   "outputs": [
    {
     "name": "stdout",
     "output_type": "stream",
     "text": [
      "[ 1  2  2  3  4  4  4  5  5  5  6  6  7  7  8  8  9  9  9 10 10 10 10 10]\n",
      "[ 1  2  2  3  4  4  4  5  5  5  6  6  7  7  8  8  9  9  9 10 10 10 10 10]\n",
      "[ 5 10 10  7  7  8  4 10  9 10  2  5  1  8  9  3  6 10  5  2  4  6  9  4]\n",
      "[ 9  3  1  8  5  2  6 10  9  4  4  6 10  7  5 10  4 10  7  8  2  5  9 10]\n",
      "Indeks pemetaan dari arrayKiri ke arrayKanan: [8, 15, 12, 5, 0, 10, 16, 1, 14, 6, 20, 21, 2, 3, 11, 7, 23, 9, 4, 13, 19, 18, 22, 17]\n",
      "arrayKiri setelah dikonversi menjadi arrayKanan:\n",
      " [[ 9  3  1  8]\n",
      " [ 5  2  6 10]\n",
      " [ 9  4  4  6]\n",
      " [10  7  5 10]\n",
      " [ 4 10  7  8]\n",
      " [ 2  5  9 10]]\n"
     ]
    }
   ],
   "source": [
    "arrayKiri = np.array(\n",
    "                    [\n",
    "                        [5, 10, 10, 7],\n",
    "                        [7, 8, 4, 10],\n",
    "                        [9, 10, 2, 5],\n",
    "                        [1, 8, 9, 3],\n",
    "                        [6, 10, 5, 2],\n",
    "                        [4, 6, 9, 4]\n",
    "                    ])\n",
    "arrayKanan = np.array([[9, 3, 1, 8],\n",
    "                    [5, 2, 6, 10],\n",
    "                    [9, 4, 4, 6],\n",
    "                    [10, 7, 5, 10],\n",
    "                    [4, 10, 7, 8],\n",
    "                    [2, 5, 9, 10]])\n",
    "\n",
    "flatKiri = arrayKiri.flatten()\n",
    "flatKanan = arrayKanan.flatten()\n",
    "a= np.sort(flatKiri)\n",
    "b= np.sort(flatKanan)\n",
    "print(a)\n",
    "print(b)\n",
    "print(flatKiri)\n",
    "print(flatKanan)\n",
    "\n",
    "indeksTersedia = {i: [] for i in range(len(flatKiri))}\n",
    "for i, nilai in enumerate(flatKiri):\n",
    "    indeksTersedia[nilai].append(i)\n",
    "\n",
    "indeksPermutasi = []\n",
    "for nilai in flatKanan:\n",
    "    indeksPermutasi.append(indeksTersedia[nilai].pop(0))\n",
    "\n",
    "arrayKiriDiubah = flatKiri[indeksPermutasi].reshape(arrayKiri.shape)\n",
    "\n",
    "print(\"Indeks pemetaan dari arrayKiri ke arrayKanan:\", indeksPermutasi)\n",
    "print(\"arrayKiri setelah dikonversi menjadi arrayKanan:\\n\", arrayKiriDiubah)"
   ]
  }
 ],
 "metadata": {
  "kernelspec": {
   "display_name": "Python 3",
   "language": "python",
   "name": "python3"
  },
  "language_info": {
   "codemirror_mode": {
    "name": "ipython",
    "version": 3
   },
   "file_extension": ".py",
   "mimetype": "text/x-python",
   "name": "python",
   "nbconvert_exporter": "python",
   "pygments_lexer": "ipython3",
   "version": "3.12.1"
  }
 },
 "nbformat": 4,
 "nbformat_minor": 2
}
